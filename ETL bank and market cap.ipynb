{
 "cells": [
  {
   "cell_type": "code",
   "execution_count": 19,
   "id": "initial_id",
   "metadata": {
    "collapsed": true,
    "ExecuteTime": {
     "end_time": "2023-09-04T17:35:23.553880300Z",
     "start_time": "2023-09-04T17:35:23.507877300Z"
    }
   },
   "outputs": [],
   "source": [
    "import glob\n",
    "import requests\n",
    "import pandas as pd\n",
    "from datetime import datetime"
   ]
  },
  {
   "cell_type": "code",
   "execution_count": 20,
   "outputs": [],
   "source": [
    "bank_market_cap_1 = requests.get(\"https://cf-courses-data.s3.us.cloud-object-storage.appdomain.cloud/IBMDeveloperSkillsNetwork-PY0221EN-SkillsNetwork/labs/module%206/Lab%20-%20Extract%20Transform%20Load/data/bank_market_cap_1.json\")\n",
    "\n",
    "bank_market_cap_2 = requests.get(\"https://cf-courses-data.s3.us.cloud-object-storage.appdomain.cloud/IBMDeveloperSkillsNetwork-PY0221EN-SkillsNetwork/labs/module%206/Lab%20-%20Extract%20Transform%20Load/data/bank_market_cap_2.json\") \n",
    "\n",
    "exchange_rates = requests.get(\"https://cf-courses-data.s3.us.cloud-object-storage.appdomain.cloud/IBMDeveloperSkillsNetwork-PY0221EN-SkillsNetwork/labs/module%206/Final%20Assignment/exchange_rates.csv\")"
   ],
   "metadata": {
    "collapsed": false,
    "ExecuteTime": {
     "end_time": "2023-09-04T17:35:25.179631Z",
     "start_time": "2023-09-04T17:35:23.514879500Z"
    }
   },
   "id": "9ba8936473f80148"
  },
  {
   "cell_type": "code",
   "execution_count": 21,
   "outputs": [],
   "source": [
    "with open(\"bank_market_cap_1.json\", mode=\"wb\") as file:\n",
    "    file.write(bank_market_cap_1.content)\n",
    "    \n",
    "with open(\"bank_market_cap_2.json\", mode=\"wb\") as file:\n",
    "    file.write(bank_market_cap_2.content)\n",
    "    \n",
    "with open(\"exchange_rates.csv\", mode=\"wb\") as file:\n",
    "    file.write(exchange_rates.content)\n"
   ],
   "metadata": {
    "collapsed": false,
    "ExecuteTime": {
     "end_time": "2023-09-04T17:35:25.195634100Z",
     "start_time": "2023-09-04T17:35:25.180631800Z"
    }
   },
   "id": "8fcbe355cab4f842"
  },
  {
   "cell_type": "code",
   "execution_count": 22,
   "outputs": [],
   "source": [
    "def extract_from_json(file_to_process):\n",
    "    dataframe = pd.read_json(file_to_process)\n",
    "    return dataframe"
   ],
   "metadata": {
    "collapsed": false,
    "ExecuteTime": {
     "end_time": "2023-09-04T17:35:25.228632400Z",
     "start_time": "2023-09-04T17:35:25.198632600Z"
    }
   },
   "id": "73dda8de8c6e3d06"
  },
  {
   "cell_type": "code",
   "execution_count": 23,
   "outputs": [],
   "source": [
    "def extract():\n",
    "    # Write your code here\n",
    "    extracted_data = pd.DataFrame(columns=['Name','Market Cap (US$ Billion)'])\n",
    "    for jsonfile in glob.glob(\"bank_market_cap_1.json\"):\n",
    "        #global extracted_data\n",
    "        extracted_data = extracted_data.append(extract_from_json(jsonfile), ignore_index=True)\n",
    "    return extracted_data"
   ],
   "metadata": {
    "collapsed": false,
    "ExecuteTime": {
     "end_time": "2023-09-04T17:35:25.229631900Z",
     "start_time": "2023-09-04T17:35:25.217632700Z"
    }
   },
   "id": "873e9ef269742183"
  },
  {
   "cell_type": "code",
   "execution_count": 24,
   "outputs": [
    {
     "data": {
      "text/plain": "0.7323984208000001"
     },
     "execution_count": 24,
     "metadata": {},
     "output_type": "execute_result"
    }
   ],
   "source": [
    "# Write your code here\n",
    "df = pd.read_csv(\"exchange_rates.csv\")\n",
    "exchange_rate = df.loc[df.iloc[:,0] == \"GBP\"]\n",
    "#extracted_data[\"Market Cap (US$ Billion)\"] = extracted_data[\"Market Cap (US$ Billion)\"] * 5\n",
    "exchange_rate_value = exchange_rate.loc[9, \"Rates\"]\n",
    "exchange_rate_value"
   ],
   "metadata": {
    "collapsed": false,
    "ExecuteTime": {
     "end_time": "2023-09-04T17:35:25.319631400Z",
     "start_time": "2023-09-04T17:35:25.231634300Z"
    }
   },
   "id": "bbeefa7ceafc9599"
  },
  {
   "cell_type": "code",
   "execution_count": 25,
   "outputs": [
    {
     "name": "stderr",
     "output_type": "stream",
     "text": [
      "C:\\Users\\Imad Harir\\AppData\\Local\\Temp\\ipykernel_4368\\2736706470.py:6: FutureWarning: The frame.append method is deprecated and will be removed from pandas in a future version. Use pandas.concat instead.\n",
      "  extracted_data = extracted_data.append(extract_from_json(jsonfile), ignore_index=True)\n"
     ]
    },
    {
     "data": {
      "text/plain": "                                       Name  Market Cap (GBP$ Billion)\n0                            JPMorgan Chase                    286.319\n1   Industrial and Commercial Bank of China                    252.834\n2                           Bank of America                    238.272\n3                               Wells Fargo                    225.588\n4                   China Construction Bank                    188.519\n..                                      ...                        ...\n65                             Ping An Bank                     27.826\n66                       Standard Chartered                     27.332\n67                     United Overseas Bank                     25.728\n68                                QNB Group                     24.579\n69                              Bank Rakyat                     24.228\n\n[70 rows x 2 columns]",
      "text/html": "<div>\n<style scoped>\n    .dataframe tbody tr th:only-of-type {\n        vertical-align: middle;\n    }\n\n    .dataframe tbody tr th {\n        vertical-align: top;\n    }\n\n    .dataframe thead th {\n        text-align: right;\n    }\n</style>\n<table border=\"1\" class=\"dataframe\">\n  <thead>\n    <tr style=\"text-align: right;\">\n      <th></th>\n      <th>Name</th>\n      <th>Market Cap (GBP$ Billion)</th>\n    </tr>\n  </thead>\n  <tbody>\n    <tr>\n      <th>0</th>\n      <td>JPMorgan Chase</td>\n      <td>286.319</td>\n    </tr>\n    <tr>\n      <th>1</th>\n      <td>Industrial and Commercial Bank of China</td>\n      <td>252.834</td>\n    </tr>\n    <tr>\n      <th>2</th>\n      <td>Bank of America</td>\n      <td>238.272</td>\n    </tr>\n    <tr>\n      <th>3</th>\n      <td>Wells Fargo</td>\n      <td>225.588</td>\n    </tr>\n    <tr>\n      <th>4</th>\n      <td>China Construction Bank</td>\n      <td>188.519</td>\n    </tr>\n    <tr>\n      <th>...</th>\n      <td>...</td>\n      <td>...</td>\n    </tr>\n    <tr>\n      <th>65</th>\n      <td>Ping An Bank</td>\n      <td>27.826</td>\n    </tr>\n    <tr>\n      <th>66</th>\n      <td>Standard Chartered</td>\n      <td>27.332</td>\n    </tr>\n    <tr>\n      <th>67</th>\n      <td>United Overseas Bank</td>\n      <td>25.728</td>\n    </tr>\n    <tr>\n      <th>68</th>\n      <td>QNB Group</td>\n      <td>24.579</td>\n    </tr>\n    <tr>\n      <th>69</th>\n      <td>Bank Rakyat</td>\n      <td>24.228</td>\n    </tr>\n  </tbody>\n</table>\n<p>70 rows × 2 columns</p>\n</div>"
     },
     "execution_count": 25,
     "metadata": {},
     "output_type": "execute_result"
    }
   ],
   "source": [
    "def transform(data):\n",
    "    # Write your code here\n",
    "    global exchange_rate_value\n",
    "    #data.iloc[:, 1] = data.iloc[:, 1] * exchange_rate\n",
    "    data['Market Cap (US$ Billion)'] = data['Market Cap (US$ Billion)'] * exchange_rate_value\n",
    "    data['Market Cap (US$ Billion)']= round(data['Market Cap (US$ Billion)'],3)\n",
    "    #print(data['Market Cap (US$ Billion)'])\n",
    "    data=data.rename(columns={\"Market Cap (US$ Billion)\":\"Market Cap (GBP$ Billion)\"},inplace=False)\n",
    "    return data\n",
    "    \n",
    "transform(extract())"
   ],
   "metadata": {
    "collapsed": false,
    "ExecuteTime": {
     "end_time": "2023-09-04T17:35:25.403633800Z",
     "start_time": "2023-09-04T17:35:25.263633100Z"
    }
   },
   "id": "1aad113b8fbe7f59"
  },
  {
   "cell_type": "code",
   "execution_count": 26,
   "outputs": [],
   "source": [
    "def load(data):\n",
    "    df.to_csv(\"bank_market_cap_gbp.csv\", index=False)"
   ],
   "metadata": {
    "collapsed": false,
    "ExecuteTime": {
     "end_time": "2023-09-04T17:35:25.405633400Z",
     "start_time": "2023-09-04T17:35:25.308631200Z"
    }
   },
   "id": "e66d8457ab218d46"
  },
  {
   "cell_type": "code",
   "execution_count": 27,
   "outputs": [],
   "source": [
    "def log(message):\n",
    "    timestamp_format='%Y-%h-%d-%H:%M:%S'\n",
    "    now=datetime.now()\n",
    "    timestamp=now.strftime(timestamp_format)\n",
    "    with open(\"logfile.txt\",\"a\") as f:\n",
    "        f.write(timestamp+','+message+'\\n')\n",
    "    "
   ],
   "metadata": {
    "collapsed": false,
    "ExecuteTime": {
     "end_time": "2023-09-04T17:35:25.416631200Z",
     "start_time": "2023-09-04T17:35:25.326632200Z"
    }
   },
   "id": "3a7a30857494341e"
  },
  {
   "cell_type": "code",
   "execution_count": 28,
   "outputs": [],
   "source": [
    "log(\"ETL Job Started\")\n",
    "log(\"Extract phase Started\")"
   ],
   "metadata": {
    "collapsed": false,
    "ExecuteTime": {
     "end_time": "2023-09-04T17:35:25.463629600Z",
     "start_time": "2023-09-04T17:35:25.340633600Z"
    }
   },
   "id": "a7e5e0399ae6f28d"
  },
  {
   "cell_type": "code",
   "execution_count": 29,
   "outputs": [
    {
     "name": "stderr",
     "output_type": "stream",
     "text": [
      "C:\\Users\\Imad Harir\\AppData\\Local\\Temp\\ipykernel_4368\\2736706470.py:6: FutureWarning: The frame.append method is deprecated and will be removed from pandas in a future version. Use pandas.concat instead.\n",
      "  extracted_data = extracted_data.append(extract_from_json(jsonfile), ignore_index=True)\n",
      "C:\\Users\\Imad Harir\\AppData\\Local\\Temp\\ipykernel_4368\\2736706470.py:6: FutureWarning: The frame.append method is deprecated and will be removed from pandas in a future version. Use pandas.concat instead.\n",
      "  extracted_data = extracted_data.append(extract_from_json(jsonfile), ignore_index=True)\n"
     ]
    },
    {
     "data": {
      "text/plain": "                                      Name  Market Cap (US$ Billion)\n0                           JPMorgan Chase                   390.934\n1  Industrial and Commercial Bank of China                   345.214\n2                          Bank of America                   325.331\n3                              Wells Fargo                   308.013\n4                  China Construction Bank                   257.399",
      "text/html": "<div>\n<style scoped>\n    .dataframe tbody tr th:only-of-type {\n        vertical-align: middle;\n    }\n\n    .dataframe tbody tr th {\n        vertical-align: top;\n    }\n\n    .dataframe thead th {\n        text-align: right;\n    }\n</style>\n<table border=\"1\" class=\"dataframe\">\n  <thead>\n    <tr style=\"text-align: right;\">\n      <th></th>\n      <th>Name</th>\n      <th>Market Cap (US$ Billion)</th>\n    </tr>\n  </thead>\n  <tbody>\n    <tr>\n      <th>0</th>\n      <td>JPMorgan Chase</td>\n      <td>390.934</td>\n    </tr>\n    <tr>\n      <th>1</th>\n      <td>Industrial and Commercial Bank of China</td>\n      <td>345.214</td>\n    </tr>\n    <tr>\n      <th>2</th>\n      <td>Bank of America</td>\n      <td>325.331</td>\n    </tr>\n    <tr>\n      <th>3</th>\n      <td>Wells Fargo</td>\n      <td>308.013</td>\n    </tr>\n    <tr>\n      <th>4</th>\n      <td>China Construction Bank</td>\n      <td>257.399</td>\n    </tr>\n  </tbody>\n</table>\n</div>"
     },
     "execution_count": 29,
     "metadata": {},
     "output_type": "execute_result"
    }
   ],
   "source": [
    "extract()\n",
    "extract().head(5)"
   ],
   "metadata": {
    "collapsed": false,
    "ExecuteTime": {
     "end_time": "2023-09-04T17:35:25.484633400Z",
     "start_time": "2023-09-04T17:35:25.356631600Z"
    }
   },
   "id": "e22e407e7140266c"
  },
  {
   "cell_type": "code",
   "execution_count": 30,
   "outputs": [],
   "source": [
    "log(\"Extract phase Ended\")"
   ],
   "metadata": {
    "collapsed": false,
    "ExecuteTime": {
     "end_time": "2023-09-04T17:35:25.484633400Z",
     "start_time": "2023-09-04T17:35:25.386632800Z"
    }
   },
   "id": "21999b1fdf0f229f"
  },
  {
   "cell_type": "code",
   "execution_count": 31,
   "outputs": [],
   "source": [
    "log(\"Transform phase Started\")"
   ],
   "metadata": {
    "collapsed": false,
    "ExecuteTime": {
     "end_time": "2023-09-04T17:35:25.487634600Z",
     "start_time": "2023-09-04T17:35:25.404634200Z"
    }
   },
   "id": "88357a517b02aa31"
  },
  {
   "cell_type": "code",
   "execution_count": 32,
   "outputs": [
    {
     "name": "stderr",
     "output_type": "stream",
     "text": [
      "C:\\Users\\Imad Harir\\AppData\\Local\\Temp\\ipykernel_4368\\2736706470.py:6: FutureWarning: The frame.append method is deprecated and will be removed from pandas in a future version. Use pandas.concat instead.\n",
      "  extracted_data = extracted_data.append(extract_from_json(jsonfile), ignore_index=True)\n",
      "C:\\Users\\Imad Harir\\AppData\\Local\\Temp\\ipykernel_4368\\2736706470.py:6: FutureWarning: The frame.append method is deprecated and will be removed from pandas in a future version. Use pandas.concat instead.\n",
      "  extracted_data = extracted_data.append(extract_from_json(jsonfile), ignore_index=True)\n"
     ]
    },
    {
     "data": {
      "text/plain": "                                      Name  Market Cap (GBP$ Billion)\n0                           JPMorgan Chase                    286.319\n1  Industrial and Commercial Bank of China                    252.834\n2                          Bank of America                    238.272\n3                              Wells Fargo                    225.588\n4                  China Construction Bank                    188.519",
      "text/html": "<div>\n<style scoped>\n    .dataframe tbody tr th:only-of-type {\n        vertical-align: middle;\n    }\n\n    .dataframe tbody tr th {\n        vertical-align: top;\n    }\n\n    .dataframe thead th {\n        text-align: right;\n    }\n</style>\n<table border=\"1\" class=\"dataframe\">\n  <thead>\n    <tr style=\"text-align: right;\">\n      <th></th>\n      <th>Name</th>\n      <th>Market Cap (GBP$ Billion)</th>\n    </tr>\n  </thead>\n  <tbody>\n    <tr>\n      <th>0</th>\n      <td>JPMorgan Chase</td>\n      <td>286.319</td>\n    </tr>\n    <tr>\n      <th>1</th>\n      <td>Industrial and Commercial Bank of China</td>\n      <td>252.834</td>\n    </tr>\n    <tr>\n      <th>2</th>\n      <td>Bank of America</td>\n      <td>238.272</td>\n    </tr>\n    <tr>\n      <th>3</th>\n      <td>Wells Fargo</td>\n      <td>225.588</td>\n    </tr>\n    <tr>\n      <th>4</th>\n      <td>China Construction Bank</td>\n      <td>188.519</td>\n    </tr>\n  </tbody>\n</table>\n</div>"
     },
     "execution_count": 32,
     "metadata": {},
     "output_type": "execute_result"
    }
   ],
   "source": [
    "transform(extract())\n",
    "transform(extract()).head(5)"
   ],
   "metadata": {
    "collapsed": false,
    "ExecuteTime": {
     "end_time": "2023-09-04T17:35:25.503635500Z",
     "start_time": "2023-09-04T17:35:25.423633900Z"
    }
   },
   "id": "9bab1321f4380c94"
  },
  {
   "cell_type": "code",
   "execution_count": 33,
   "outputs": [],
   "source": [
    "log(\"Transform phase Ended\")"
   ],
   "metadata": {
    "collapsed": false,
    "ExecuteTime": {
     "end_time": "2023-09-04T17:35:25.513631900Z",
     "start_time": "2023-09-04T17:35:25.468632100Z"
    }
   },
   "id": "6510a4b6a680674"
  },
  {
   "cell_type": "code",
   "execution_count": 34,
   "outputs": [],
   "source": [
    "log(\"Load phase Started\")"
   ],
   "metadata": {
    "collapsed": false,
    "ExecuteTime": {
     "end_time": "2023-09-04T17:35:25.687631100Z",
     "start_time": "2023-09-04T17:35:25.487634600Z"
    }
   },
   "id": "fca688b2b908a8d0"
  },
  {
   "cell_type": "code",
   "execution_count": 35,
   "outputs": [
    {
     "name": "stderr",
     "output_type": "stream",
     "text": [
      "C:\\Users\\Imad Harir\\AppData\\Local\\Temp\\ipykernel_4368\\2736706470.py:6: FutureWarning: The frame.append method is deprecated and will be removed from pandas in a future version. Use pandas.concat instead.\n",
      "  extracted_data = extracted_data.append(extract_from_json(jsonfile), ignore_index=True)\n"
     ]
    }
   ],
   "source": [
    "load(transform(extract()))"
   ],
   "metadata": {
    "collapsed": false,
    "ExecuteTime": {
     "end_time": "2023-09-04T17:35:25.700632300Z",
     "start_time": "2023-09-04T17:35:25.502633400Z"
    }
   },
   "id": "89d9ca987dd50472"
  },
  {
   "cell_type": "code",
   "execution_count": 36,
   "outputs": [],
   "source": [
    "log(\"Load phase Ended\")"
   ],
   "metadata": {
    "collapsed": false,
    "ExecuteTime": {
     "end_time": "2023-09-04T17:35:25.727631700Z",
     "start_time": "2023-09-04T17:35:25.536632300Z"
    }
   },
   "id": "d36a2521dbf7c4c2"
  }
 ],
 "metadata": {
  "kernelspec": {
   "display_name": "Python 3",
   "language": "python",
   "name": "python3"
  },
  "language_info": {
   "codemirror_mode": {
    "name": "ipython",
    "version": 2
   },
   "file_extension": ".py",
   "mimetype": "text/x-python",
   "name": "python",
   "nbconvert_exporter": "python",
   "pygments_lexer": "ipython2",
   "version": "2.7.6"
  }
 },
 "nbformat": 4,
 "nbformat_minor": 5
}
